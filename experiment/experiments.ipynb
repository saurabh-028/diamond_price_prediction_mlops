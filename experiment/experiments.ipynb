{
 "cells": [
  {
   "cell_type": "code",
   "execution_count": 112,
   "metadata": {},
   "outputs": [],
   "source": [
    "import pandas as pd\n",
    "import numpy as np\n",
    "\n",
    "import seaborn as sns"
   ]
  },
  {
   "cell_type": "code",
   "execution_count": 113,
   "metadata": {},
   "outputs": [],
   "source": [
    "df_train = pd.read_csv(\"C:/Saurabh/mlops ineuron/End to End Project/artifacts/train.csv\") \n",
    "df_test = pd.read_csv(\"C:/Saurabh/mlops ineuron/End to End Project/artifacts/test.csv\") "
   ]
  },
  {
   "cell_type": "code",
   "execution_count": 114,
   "metadata": {},
   "outputs": [
    {
     "data": {
      "text/html": [
       "<div>\n",
       "<style scoped>\n",
       "    .dataframe tbody tr th:only-of-type {\n",
       "        vertical-align: middle;\n",
       "    }\n",
       "\n",
       "    .dataframe tbody tr th {\n",
       "        vertical-align: top;\n",
       "    }\n",
       "\n",
       "    .dataframe thead th {\n",
       "        text-align: right;\n",
       "    }\n",
       "</style>\n",
       "<table border=\"1\" class=\"dataframe\">\n",
       "  <thead>\n",
       "    <tr style=\"text-align: right;\">\n",
       "      <th></th>\n",
       "      <th>id</th>\n",
       "      <th>carat</th>\n",
       "      <th>cut</th>\n",
       "      <th>color</th>\n",
       "      <th>clarity</th>\n",
       "      <th>depth</th>\n",
       "      <th>table</th>\n",
       "      <th>x</th>\n",
       "      <th>y</th>\n",
       "      <th>z</th>\n",
       "      <th>price</th>\n",
       "    </tr>\n",
       "  </thead>\n",
       "  <tbody>\n",
       "    <tr>\n",
       "      <th>0</th>\n",
       "      <td>0</td>\n",
       "      <td>1.52</td>\n",
       "      <td>Premium</td>\n",
       "      <td>F</td>\n",
       "      <td>VS2</td>\n",
       "      <td>62.2</td>\n",
       "      <td>58.0</td>\n",
       "      <td>7.27</td>\n",
       "      <td>7.33</td>\n",
       "      <td>4.55</td>\n",
       "      <td>13619</td>\n",
       "    </tr>\n",
       "    <tr>\n",
       "      <th>1</th>\n",
       "      <td>1</td>\n",
       "      <td>2.03</td>\n",
       "      <td>Very Good</td>\n",
       "      <td>J</td>\n",
       "      <td>SI2</td>\n",
       "      <td>62.0</td>\n",
       "      <td>58.0</td>\n",
       "      <td>8.06</td>\n",
       "      <td>8.12</td>\n",
       "      <td>5.05</td>\n",
       "      <td>13387</td>\n",
       "    </tr>\n",
       "    <tr>\n",
       "      <th>2</th>\n",
       "      <td>2</td>\n",
       "      <td>0.70</td>\n",
       "      <td>Ideal</td>\n",
       "      <td>G</td>\n",
       "      <td>VS1</td>\n",
       "      <td>61.2</td>\n",
       "      <td>57.0</td>\n",
       "      <td>5.69</td>\n",
       "      <td>5.73</td>\n",
       "      <td>3.50</td>\n",
       "      <td>2772</td>\n",
       "    </tr>\n",
       "    <tr>\n",
       "      <th>3</th>\n",
       "      <td>3</td>\n",
       "      <td>0.32</td>\n",
       "      <td>Ideal</td>\n",
       "      <td>G</td>\n",
       "      <td>VS1</td>\n",
       "      <td>61.6</td>\n",
       "      <td>56.0</td>\n",
       "      <td>4.38</td>\n",
       "      <td>4.41</td>\n",
       "      <td>2.71</td>\n",
       "      <td>666</td>\n",
       "    </tr>\n",
       "    <tr>\n",
       "      <th>4</th>\n",
       "      <td>4</td>\n",
       "      <td>1.70</td>\n",
       "      <td>Premium</td>\n",
       "      <td>G</td>\n",
       "      <td>VS2</td>\n",
       "      <td>62.6</td>\n",
       "      <td>59.0</td>\n",
       "      <td>7.65</td>\n",
       "      <td>7.61</td>\n",
       "      <td>4.77</td>\n",
       "      <td>14453</td>\n",
       "    </tr>\n",
       "  </tbody>\n",
       "</table>\n",
       "</div>"
      ],
      "text/plain": [
       "   id  carat        cut color clarity  depth  table     x     y     z  price\n",
       "0   0   1.52    Premium     F     VS2   62.2   58.0  7.27  7.33  4.55  13619\n",
       "1   1   2.03  Very Good     J     SI2   62.0   58.0  8.06  8.12  5.05  13387\n",
       "2   2   0.70      Ideal     G     VS1   61.2   57.0  5.69  5.73  3.50   2772\n",
       "3   3   0.32      Ideal     G     VS1   61.6   56.0  4.38  4.41  2.71    666\n",
       "4   4   1.70    Premium     G     VS2   62.6   59.0  7.65  7.61  4.77  14453"
      ]
     },
     "execution_count": 114,
     "metadata": {},
     "output_type": "execute_result"
    }
   ],
   "source": [
    "df_train.head()"
   ]
  },
  {
   "cell_type": "code",
   "execution_count": 115,
   "metadata": {},
   "outputs": [
    {
     "data": {
      "text/plain": [
       "((193573, 11), (129050, 10))"
      ]
     },
     "execution_count": 115,
     "metadata": {},
     "output_type": "execute_result"
    }
   ],
   "source": [
    "df_train.shape, df_test.shape"
   ]
  },
  {
   "cell_type": "code",
   "execution_count": 116,
   "metadata": {},
   "outputs": [
    {
     "data": {
      "text/plain": [
       "id         0\n",
       "carat      0\n",
       "cut        0\n",
       "color      0\n",
       "clarity    0\n",
       "depth      0\n",
       "table      0\n",
       "x          0\n",
       "y          0\n",
       "z          0\n",
       "price      0\n",
       "dtype: int64"
      ]
     },
     "execution_count": 116,
     "metadata": {},
     "output_type": "execute_result"
    }
   ],
   "source": [
    "df_train.isnull().sum()"
   ]
  },
  {
   "cell_type": "code",
   "execution_count": 117,
   "metadata": {},
   "outputs": [
    {
     "data": {
      "text/html": [
       "<div>\n",
       "<style scoped>\n",
       "    .dataframe tbody tr th:only-of-type {\n",
       "        vertical-align: middle;\n",
       "    }\n",
       "\n",
       "    .dataframe tbody tr th {\n",
       "        vertical-align: top;\n",
       "    }\n",
       "\n",
       "    .dataframe thead th {\n",
       "        text-align: right;\n",
       "    }\n",
       "</style>\n",
       "<table border=\"1\" class=\"dataframe\">\n",
       "  <thead>\n",
       "    <tr style=\"text-align: right;\">\n",
       "      <th></th>\n",
       "      <th>id</th>\n",
       "      <th>carat</th>\n",
       "      <th>depth</th>\n",
       "      <th>table</th>\n",
       "      <th>x</th>\n",
       "      <th>y</th>\n",
       "      <th>z</th>\n",
       "      <th>price</th>\n",
       "    </tr>\n",
       "  </thead>\n",
       "  <tbody>\n",
       "    <tr>\n",
       "      <th>count</th>\n",
       "      <td>193573.000000</td>\n",
       "      <td>193573.000000</td>\n",
       "      <td>193573.000000</td>\n",
       "      <td>193573.000000</td>\n",
       "      <td>193573.000000</td>\n",
       "      <td>193573.000000</td>\n",
       "      <td>193573.000000</td>\n",
       "      <td>193573.000000</td>\n",
       "    </tr>\n",
       "    <tr>\n",
       "      <th>mean</th>\n",
       "      <td>96786.000000</td>\n",
       "      <td>0.790688</td>\n",
       "      <td>61.820574</td>\n",
       "      <td>57.227675</td>\n",
       "      <td>5.715312</td>\n",
       "      <td>5.720094</td>\n",
       "      <td>3.534246</td>\n",
       "      <td>3969.155414</td>\n",
       "    </tr>\n",
       "    <tr>\n",
       "      <th>std</th>\n",
       "      <td>55879.856166</td>\n",
       "      <td>0.462688</td>\n",
       "      <td>1.081704</td>\n",
       "      <td>1.918844</td>\n",
       "      <td>1.109422</td>\n",
       "      <td>1.102333</td>\n",
       "      <td>0.688922</td>\n",
       "      <td>4034.374138</td>\n",
       "    </tr>\n",
       "    <tr>\n",
       "      <th>min</th>\n",
       "      <td>0.000000</td>\n",
       "      <td>0.200000</td>\n",
       "      <td>52.100000</td>\n",
       "      <td>49.000000</td>\n",
       "      <td>0.000000</td>\n",
       "      <td>0.000000</td>\n",
       "      <td>0.000000</td>\n",
       "      <td>326.000000</td>\n",
       "    </tr>\n",
       "    <tr>\n",
       "      <th>25%</th>\n",
       "      <td>48393.000000</td>\n",
       "      <td>0.400000</td>\n",
       "      <td>61.300000</td>\n",
       "      <td>56.000000</td>\n",
       "      <td>4.700000</td>\n",
       "      <td>4.710000</td>\n",
       "      <td>2.900000</td>\n",
       "      <td>951.000000</td>\n",
       "    </tr>\n",
       "    <tr>\n",
       "      <th>50%</th>\n",
       "      <td>96786.000000</td>\n",
       "      <td>0.700000</td>\n",
       "      <td>61.900000</td>\n",
       "      <td>57.000000</td>\n",
       "      <td>5.700000</td>\n",
       "      <td>5.720000</td>\n",
       "      <td>3.530000</td>\n",
       "      <td>2401.000000</td>\n",
       "    </tr>\n",
       "    <tr>\n",
       "      <th>75%</th>\n",
       "      <td>145179.000000</td>\n",
       "      <td>1.030000</td>\n",
       "      <td>62.400000</td>\n",
       "      <td>58.000000</td>\n",
       "      <td>6.510000</td>\n",
       "      <td>6.510000</td>\n",
       "      <td>4.030000</td>\n",
       "      <td>5408.000000</td>\n",
       "    </tr>\n",
       "    <tr>\n",
       "      <th>max</th>\n",
       "      <td>193572.000000</td>\n",
       "      <td>3.500000</td>\n",
       "      <td>71.600000</td>\n",
       "      <td>79.000000</td>\n",
       "      <td>9.650000</td>\n",
       "      <td>10.010000</td>\n",
       "      <td>31.300000</td>\n",
       "      <td>18818.000000</td>\n",
       "    </tr>\n",
       "  </tbody>\n",
       "</table>\n",
       "</div>"
      ],
      "text/plain": [
       "                  id          carat          depth          table  \\\n",
       "count  193573.000000  193573.000000  193573.000000  193573.000000   \n",
       "mean    96786.000000       0.790688      61.820574      57.227675   \n",
       "std     55879.856166       0.462688       1.081704       1.918844   \n",
       "min         0.000000       0.200000      52.100000      49.000000   \n",
       "25%     48393.000000       0.400000      61.300000      56.000000   \n",
       "50%     96786.000000       0.700000      61.900000      57.000000   \n",
       "75%    145179.000000       1.030000      62.400000      58.000000   \n",
       "max    193572.000000       3.500000      71.600000      79.000000   \n",
       "\n",
       "                   x              y              z          price  \n",
       "count  193573.000000  193573.000000  193573.000000  193573.000000  \n",
       "mean        5.715312       5.720094       3.534246    3969.155414  \n",
       "std         1.109422       1.102333       0.688922    4034.374138  \n",
       "min         0.000000       0.000000       0.000000     326.000000  \n",
       "25%         4.700000       4.710000       2.900000     951.000000  \n",
       "50%         5.700000       5.720000       3.530000    2401.000000  \n",
       "75%         6.510000       6.510000       4.030000    5408.000000  \n",
       "max         9.650000      10.010000      31.300000   18818.000000  "
      ]
     },
     "execution_count": 117,
     "metadata": {},
     "output_type": "execute_result"
    }
   ],
   "source": [
    "df_train.describe()"
   ]
  },
  {
   "cell_type": "code",
   "execution_count": 118,
   "metadata": {},
   "outputs": [
    {
     "data": {
      "text/html": [
       "<div>\n",
       "<style scoped>\n",
       "    .dataframe tbody tr th:only-of-type {\n",
       "        vertical-align: middle;\n",
       "    }\n",
       "\n",
       "    .dataframe tbody tr th {\n",
       "        vertical-align: top;\n",
       "    }\n",
       "\n",
       "    .dataframe thead th {\n",
       "        text-align: right;\n",
       "    }\n",
       "</style>\n",
       "<table border=\"1\" class=\"dataframe\">\n",
       "  <thead>\n",
       "    <tr style=\"text-align: right;\">\n",
       "      <th></th>\n",
       "      <th>id</th>\n",
       "      <th>carat</th>\n",
       "      <th>cut</th>\n",
       "      <th>color</th>\n",
       "      <th>clarity</th>\n",
       "      <th>depth</th>\n",
       "      <th>table</th>\n",
       "      <th>x</th>\n",
       "      <th>y</th>\n",
       "      <th>z</th>\n",
       "      <th>price</th>\n",
       "    </tr>\n",
       "  </thead>\n",
       "  <tbody>\n",
       "    <tr>\n",
       "      <th>180559</th>\n",
       "      <td>180559</td>\n",
       "      <td>2.15</td>\n",
       "      <td>Premium</td>\n",
       "      <td>E</td>\n",
       "      <td>SI2</td>\n",
       "      <td>61.7</td>\n",
       "      <td>58.0</td>\n",
       "      <td>8.34</td>\n",
       "      <td>8.31</td>\n",
       "      <td>5.10</td>\n",
       "      <td>18818</td>\n",
       "    </tr>\n",
       "    <tr>\n",
       "      <th>153958</th>\n",
       "      <td>153958</td>\n",
       "      <td>2.00</td>\n",
       "      <td>Very Good</td>\n",
       "      <td>F</td>\n",
       "      <td>SI1</td>\n",
       "      <td>59.2</td>\n",
       "      <td>60.0</td>\n",
       "      <td>8.09</td>\n",
       "      <td>8.14</td>\n",
       "      <td>4.86</td>\n",
       "      <td>18818</td>\n",
       "    </tr>\n",
       "    <tr>\n",
       "      <th>9224</th>\n",
       "      <td>9224</td>\n",
       "      <td>2.00</td>\n",
       "      <td>Very Good</td>\n",
       "      <td>G</td>\n",
       "      <td>SI1</td>\n",
       "      <td>63.5</td>\n",
       "      <td>56.0</td>\n",
       "      <td>8.03</td>\n",
       "      <td>7.97</td>\n",
       "      <td>5.05</td>\n",
       "      <td>18818</td>\n",
       "    </tr>\n",
       "    <tr>\n",
       "      <th>59270</th>\n",
       "      <td>59270</td>\n",
       "      <td>2.29</td>\n",
       "      <td>Premium</td>\n",
       "      <td>G</td>\n",
       "      <td>SI1</td>\n",
       "      <td>62.6</td>\n",
       "      <td>57.0</td>\n",
       "      <td>8.37</td>\n",
       "      <td>8.33</td>\n",
       "      <td>5.23</td>\n",
       "      <td>18818</td>\n",
       "    </tr>\n",
       "    <tr>\n",
       "      <th>123163</th>\n",
       "      <td>123163</td>\n",
       "      <td>1.70</td>\n",
       "      <td>Ideal</td>\n",
       "      <td>G</td>\n",
       "      <td>VS1</td>\n",
       "      <td>61.7</td>\n",
       "      <td>55.0</td>\n",
       "      <td>7.70</td>\n",
       "      <td>7.60</td>\n",
       "      <td>4.73</td>\n",
       "      <td>18818</td>\n",
       "    </tr>\n",
       "  </tbody>\n",
       "</table>\n",
       "</div>"
      ],
      "text/plain": [
       "            id  carat        cut color clarity  depth  table     x     y  \\\n",
       "180559  180559   2.15    Premium     E     SI2   61.7   58.0  8.34  8.31   \n",
       "153958  153958   2.00  Very Good     F     SI1   59.2   60.0  8.09  8.14   \n",
       "9224      9224   2.00  Very Good     G     SI1   63.5   56.0  8.03  7.97   \n",
       "59270    59270   2.29    Premium     G     SI1   62.6   57.0  8.37  8.33   \n",
       "123163  123163   1.70      Ideal     G     VS1   61.7   55.0  7.70  7.60   \n",
       "\n",
       "           z  price  \n",
       "180559  5.10  18818  \n",
       "153958  4.86  18818  \n",
       "9224    5.05  18818  \n",
       "59270   5.23  18818  \n",
       "123163  4.73  18818  "
      ]
     },
     "execution_count": 118,
     "metadata": {},
     "output_type": "execute_result"
    }
   ],
   "source": [
    "df_train[df_train.price > 12000].sort_values(by=[\"price\"], ascending=False).head()"
   ]
  },
  {
   "cell_type": "code",
   "execution_count": 119,
   "metadata": {},
   "outputs": [
    {
     "data": {
      "text/plain": [
       "cut\n",
       "Ideal        92454\n",
       "Premium      49910\n",
       "Very Good    37566\n",
       "Good         11622\n",
       "Fair          2021\n",
       "Name: count, dtype: int64"
      ]
     },
     "execution_count": 119,
     "metadata": {},
     "output_type": "execute_result"
    }
   ],
   "source": [
    "df_train.cut.value_counts()"
   ]
  },
  {
   "cell_type": "code",
   "execution_count": 120,
   "metadata": {},
   "outputs": [
    {
     "data": {
      "text/plain": [
       "color\n",
       "G    44391\n",
       "E    35869\n",
       "F    34258\n",
       "H    30799\n",
       "D    24286\n",
       "I    17514\n",
       "J     6456\n",
       "Name: count, dtype: int64"
      ]
     },
     "execution_count": 120,
     "metadata": {},
     "output_type": "execute_result"
    }
   ],
   "source": [
    "df_train.color.value_counts()"
   ]
  },
  {
   "cell_type": "code",
   "execution_count": 121,
   "metadata": {},
   "outputs": [
    {
     "data": {
      "text/plain": [
       "clarity\n",
       "SI1     53272\n",
       "VS2     48027\n",
       "VS1     30669\n",
       "SI2     30484\n",
       "VVS2    15762\n",
       "VVS1    10628\n",
       "IF       4219\n",
       "I1        512\n",
       "Name: count, dtype: int64"
      ]
     },
     "execution_count": 121,
     "metadata": {},
     "output_type": "execute_result"
    }
   ],
   "source": [
    "df_train.clarity.value_counts()"
   ]
  },
  {
   "cell_type": "code",
   "execution_count": 122,
   "metadata": {},
   "outputs": [],
   "source": [
    "X = df_train.drop(['id', 'price'], axis=1)\n",
    "y = df_train[\"price\"]"
   ]
  },
  {
   "cell_type": "code",
   "execution_count": 123,
   "metadata": {},
   "outputs": [
    {
     "data": {
      "text/html": [
       "<div>\n",
       "<style scoped>\n",
       "    .dataframe tbody tr th:only-of-type {\n",
       "        vertical-align: middle;\n",
       "    }\n",
       "\n",
       "    .dataframe tbody tr th {\n",
       "        vertical-align: top;\n",
       "    }\n",
       "\n",
       "    .dataframe thead th {\n",
       "        text-align: right;\n",
       "    }\n",
       "</style>\n",
       "<table border=\"1\" class=\"dataframe\">\n",
       "  <thead>\n",
       "    <tr style=\"text-align: right;\">\n",
       "      <th></th>\n",
       "      <th>carat</th>\n",
       "      <th>cut</th>\n",
       "      <th>color</th>\n",
       "      <th>clarity</th>\n",
       "      <th>depth</th>\n",
       "      <th>table</th>\n",
       "      <th>x</th>\n",
       "      <th>y</th>\n",
       "      <th>z</th>\n",
       "    </tr>\n",
       "  </thead>\n",
       "  <tbody>\n",
       "    <tr>\n",
       "      <th>0</th>\n",
       "      <td>1.52</td>\n",
       "      <td>Premium</td>\n",
       "      <td>F</td>\n",
       "      <td>VS2</td>\n",
       "      <td>62.2</td>\n",
       "      <td>58.0</td>\n",
       "      <td>7.27</td>\n",
       "      <td>7.33</td>\n",
       "      <td>4.55</td>\n",
       "    </tr>\n",
       "    <tr>\n",
       "      <th>1</th>\n",
       "      <td>2.03</td>\n",
       "      <td>Very Good</td>\n",
       "      <td>J</td>\n",
       "      <td>SI2</td>\n",
       "      <td>62.0</td>\n",
       "      <td>58.0</td>\n",
       "      <td>8.06</td>\n",
       "      <td>8.12</td>\n",
       "      <td>5.05</td>\n",
       "    </tr>\n",
       "  </tbody>\n",
       "</table>\n",
       "</div>"
      ],
      "text/plain": [
       "   carat        cut color clarity  depth  table     x     y     z\n",
       "0   1.52    Premium     F     VS2   62.2   58.0  7.27  7.33  4.55\n",
       "1   2.03  Very Good     J     SI2   62.0   58.0  8.06  8.12  5.05"
      ]
     },
     "execution_count": 123,
     "metadata": {},
     "output_type": "execute_result"
    }
   ],
   "source": [
    "X.head(2)"
   ]
  },
  {
   "cell_type": "code",
   "execution_count": 124,
   "metadata": {},
   "outputs": [
    {
     "data": {
      "text/plain": [
       "0    13619\n",
       "1    13387\n",
       "Name: price, dtype: int64"
      ]
     },
     "execution_count": 124,
     "metadata": {},
     "output_type": "execute_result"
    }
   ],
   "source": [
    "y.head(2)"
   ]
  },
  {
   "cell_type": "code",
   "execution_count": 125,
   "metadata": {},
   "outputs": [],
   "source": [
    "cat_cols = X.select_dtypes(include=\"object\").columns\n",
    "num_cols = X.select_dtypes(exclude=\"object\").columns"
   ]
  },
  {
   "cell_type": "code",
   "execution_count": 126,
   "metadata": {},
   "outputs": [
    {
     "data": {
      "text/plain": [
       "Index(['cut', 'color', 'clarity'], dtype='object')"
      ]
     },
     "execution_count": 126,
     "metadata": {},
     "output_type": "execute_result"
    }
   ],
   "source": [
    "cat_cols"
   ]
  },
  {
   "cell_type": "code",
   "execution_count": 127,
   "metadata": {},
   "outputs": [
    {
     "data": {
      "text/plain": [
       "Index(['carat', 'depth', 'table', 'x', 'y', 'z'], dtype='object')"
      ]
     },
     "execution_count": 127,
     "metadata": {},
     "output_type": "execute_result"
    }
   ],
   "source": [
    "num_cols"
   ]
  },
  {
   "cell_type": "code",
   "execution_count": 130,
   "metadata": {},
   "outputs": [],
   "source": [
    "cut_categories = ['Fair', 'Good', 'Very Good','Premium','Ideal']\n",
    "color_categories = ['D', 'E', 'F', 'G', 'H', 'I', 'J']\n",
    "clarity_categories = ['I1','SI2','SI1','VS2','VS1','VVS2','VVS1','IF']"
   ]
  },
  {
   "cell_type": "code",
   "execution_count": 111,
   "metadata": {},
   "outputs": [],
   "source": [
    "from sklearn.impute import SimpleImputer\n",
    "from sklearn.preprocessing import StandardScaler \n",
    "from sklearn.preprocessing import OrdinalEncoder \n",
    "\n",
    "from sklearn.pipeline  import Pipeline\n",
    "from sklearn.compose import ColumnTransformer"
   ]
  },
  {
   "cell_type": "code",
   "execution_count": 133,
   "metadata": {},
   "outputs": [],
   "source": [
    "num_pipeline = Pipeline(\n",
    "    steps=[\n",
    "        (\"imputer\", SimpleImputer()),\n",
    "        (\"scaler\", StandardScaler())\n",
    "    ]   \n",
    ")"
   ]
  },
  {
   "cell_type": "code",
   "execution_count": 134,
   "metadata": {},
   "outputs": [],
   "source": [
    "cat_pipeline = Pipeline(\n",
    "    steps=[\n",
    "        (\"imputer\", SimpleImputer(strategy=\"most_frequent\")),\n",
    "        (\"encoder\", OrdinalEncoder(categories=[cut_categories, color_categories,clarity_categories]))\n",
    "    ]\n",
    ")"
   ]
  },
  {
   "cell_type": "code",
   "execution_count": 135,
   "metadata": {},
   "outputs": [],
   "source": [
    "preprocessor = ColumnTransformer(\n",
    "    [\n",
    "        (\"cat_cols\", cat_pipeline, cat_cols),\n",
    "        (\"num_cols\", num_pipeline, num_cols)    \n",
    "     ]\n",
    "    )"
   ]
  },
  {
   "cell_type": "code",
   "execution_count": 136,
   "metadata": {},
   "outputs": [],
   "source": [
    "from sklearn.model_selection import train_test_split"
   ]
  },
  {
   "cell_type": "code",
   "execution_count": 150,
   "metadata": {},
   "outputs": [],
   "source": [
    "X_train,X_test, y_train, y_test = train_test_split(X, y, test_size=0.30)"
   ]
  },
  {
   "cell_type": "code",
   "execution_count": 151,
   "metadata": {},
   "outputs": [
    {
     "name": "stdout",
     "output_type": "stream",
     "text": [
      "(135501, 9)\n",
      "(58072, 9)\n",
      "(135501,)\n",
      "(58072,)\n"
     ]
    }
   ],
   "source": [
    "print(X_train.shape)\n",
    "print(X_test.shape)\n",
    "print(y_train.shape)\n",
    "print(y_test.shape)"
   ]
  },
  {
   "cell_type": "code",
   "execution_count": 152,
   "metadata": {},
   "outputs": [
    {
     "data": {
      "text/plain": [
       "array([[ 4.        ,  4.        ,  2.        , ...,  1.05930697,\n",
       "         1.01631984,  1.0579126 ],\n",
       "       [ 2.        ,  4.        ,  3.        , ..., -1.28858422,\n",
       "        -1.28296875, -1.29253824],\n",
       "       [ 3.        ,  4.        ,  3.        , ..., -0.28621529,\n",
       "        -0.26510186, -0.27060309],\n",
       "       ...,\n",
       "       [ 4.        ,  0.        ,  5.        , ..., -1.27955387,\n",
       "        -1.25570445, -1.24874102],\n",
       "       [ 3.        ,  4.        ,  2.        , ...,  1.36633889,\n",
       "         1.40710802,  1.46668666],\n",
       "       [ 3.        ,  0.        ,  1.        , ...,  0.8335482 ,\n",
       "         0.87999838,  0.86812465]])"
      ]
     },
     "execution_count": 152,
     "metadata": {},
     "output_type": "execute_result"
    }
   ],
   "source": [
    "preprocessor.fit_transform(X_train)"
   ]
  },
  {
   "cell_type": "code",
   "execution_count": 153,
   "metadata": {},
   "outputs": [
    {
     "data": {
      "text/plain": [
       "array([[ 2.        ,  3.        ,  3.        , ..., -1.16813837,\n",
       "        -1.15302476, -1.11979924],\n",
       "       [ 3.        ,  2.        ,  2.        , ..., -0.0103169 ,\n",
       "        -0.06896656, -0.0310248 ],\n",
       "       [ 2.        ,  1.        ,  2.        , ...,  0.35767286,\n",
       "         0.31045381,  0.39875458],\n",
       "       ...,\n",
       "       [ 1.        ,  5.        ,  3.        , ...,  1.46164217,\n",
       "         1.60228984,  1.18668345],\n",
       "       [ 2.        ,  5.        ,  3.        , ...,  0.99492344,\n",
       "         0.95185492,  1.00044572],\n",
       "       [ 2.        ,  6.        ,  2.        , ...,  2.03606522,\n",
       "         1.96364258,  2.1321981 ]])"
      ]
     },
     "execution_count": 153,
     "metadata": {},
     "output_type": "execute_result"
    }
   ],
   "source": [
    "preprocessor.fit_transform(X_test)"
   ]
  },
  {
   "cell_type": "code",
   "execution_count": 155,
   "metadata": {},
   "outputs": [
    {
     "data": {
      "text/plain": [
       "array(['cat_cols__cut', 'cat_cols__color', 'cat_cols__clarity',\n",
       "       'num_cols__carat', 'num_cols__depth', 'num_cols__table',\n",
       "       'num_cols__x', 'num_cols__y', 'num_cols__z'], dtype=object)"
      ]
     },
     "execution_count": 155,
     "metadata": {},
     "output_type": "execute_result"
    }
   ],
   "source": [
    "\n",
    "preprocessor.get_feature_names_out()"
   ]
  },
  {
   "cell_type": "code",
   "execution_count": 156,
   "metadata": {},
   "outputs": [],
   "source": [
    "X_train = pd.DataFrame(preprocessor.fit_transform(X_train), columns=preprocessor.get_feature_names_out())\n",
    "X_test = pd.DataFrame(preprocessor.fit_transform(X_test), columns=preprocessor.get_feature_names_out())"
   ]
  },
  {
   "cell_type": "code",
   "execution_count": 158,
   "metadata": {},
   "outputs": [
    {
     "data": {
      "text/html": [
       "<div>\n",
       "<style scoped>\n",
       "    .dataframe tbody tr th:only-of-type {\n",
       "        vertical-align: middle;\n",
       "    }\n",
       "\n",
       "    .dataframe tbody tr th {\n",
       "        vertical-align: top;\n",
       "    }\n",
       "\n",
       "    .dataframe thead th {\n",
       "        text-align: right;\n",
       "    }\n",
       "</style>\n",
       "<table border=\"1\" class=\"dataframe\">\n",
       "  <thead>\n",
       "    <tr style=\"text-align: right;\">\n",
       "      <th></th>\n",
       "      <th>cat_cols__cut</th>\n",
       "      <th>cat_cols__color</th>\n",
       "      <th>cat_cols__clarity</th>\n",
       "      <th>num_cols__carat</th>\n",
       "      <th>num_cols__depth</th>\n",
       "      <th>num_cols__table</th>\n",
       "      <th>num_cols__x</th>\n",
       "      <th>num_cols__y</th>\n",
       "      <th>num_cols__z</th>\n",
       "    </tr>\n",
       "  </thead>\n",
       "  <tbody>\n",
       "    <tr>\n",
       "      <th>0</th>\n",
       "      <td>4.0</td>\n",
       "      <td>4.0</td>\n",
       "      <td>2.0</td>\n",
       "      <td>0.971850</td>\n",
       "      <td>0.255322</td>\n",
       "      <td>-0.639281</td>\n",
       "      <td>1.059307</td>\n",
       "      <td>1.016320</td>\n",
       "      <td>1.057913</td>\n",
       "    </tr>\n",
       "    <tr>\n",
       "      <th>1</th>\n",
       "      <td>2.0</td>\n",
       "      <td>4.0</td>\n",
       "      <td>3.0</td>\n",
       "      <td>-1.063121</td>\n",
       "      <td>-0.115306</td>\n",
       "      <td>0.925791</td>\n",
       "      <td>-1.288584</td>\n",
       "      <td>-1.282969</td>\n",
       "      <td>-1.292538</td>\n",
       "    </tr>\n",
       "    <tr>\n",
       "      <th>2</th>\n",
       "      <td>3.0</td>\n",
       "      <td>4.0</td>\n",
       "      <td>3.0</td>\n",
       "      <td>-0.435311</td>\n",
       "      <td>-0.207963</td>\n",
       "      <td>0.925791</td>\n",
       "      <td>-0.286215</td>\n",
       "      <td>-0.265102</td>\n",
       "      <td>-0.270603</td>\n",
       "    </tr>\n",
       "    <tr>\n",
       "      <th>3</th>\n",
       "      <td>3.0</td>\n",
       "      <td>2.0</td>\n",
       "      <td>3.0</td>\n",
       "      <td>-0.175528</td>\n",
       "      <td>0.903920</td>\n",
       "      <td>0.404100</td>\n",
       "      <td>0.002756</td>\n",
       "      <td>-0.019723</td>\n",
       "      <td>0.065176</td>\n",
       "    </tr>\n",
       "    <tr>\n",
       "      <th>4</th>\n",
       "      <td>4.0</td>\n",
       "      <td>0.0</td>\n",
       "      <td>3.0</td>\n",
       "      <td>-1.019824</td>\n",
       "      <td>0.070008</td>\n",
       "      <td>-1.682662</td>\n",
       "      <td>-1.216341</td>\n",
       "      <td>-1.192088</td>\n",
       "      <td>-1.190345</td>\n",
       "    </tr>\n",
       "  </tbody>\n",
       "</table>\n",
       "</div>"
      ],
      "text/plain": [
       "   cat_cols__cut  cat_cols__color  cat_cols__clarity  num_cols__carat  \\\n",
       "0            4.0              4.0                2.0         0.971850   \n",
       "1            2.0              4.0                3.0        -1.063121   \n",
       "2            3.0              4.0                3.0        -0.435311   \n",
       "3            3.0              2.0                3.0        -0.175528   \n",
       "4            4.0              0.0                3.0        -1.019824   \n",
       "\n",
       "   num_cols__depth  num_cols__table  num_cols__x  num_cols__y  num_cols__z  \n",
       "0         0.255322        -0.639281     1.059307     1.016320     1.057913  \n",
       "1        -0.115306         0.925791    -1.288584    -1.282969    -1.292538  \n",
       "2        -0.207963         0.925791    -0.286215    -0.265102    -0.270603  \n",
       "3         0.903920         0.404100     0.002756    -0.019723     0.065176  \n",
       "4         0.070008        -1.682662    -1.216341    -1.192088    -1.190345  "
      ]
     },
     "execution_count": 158,
     "metadata": {},
     "output_type": "execute_result"
    }
   ],
   "source": [
    "X_train.head()"
   ]
  },
  {
   "cell_type": "code",
   "execution_count": 170,
   "metadata": {},
   "outputs": [
    {
     "data": {
      "text/html": [
       "<div>\n",
       "<style scoped>\n",
       "    .dataframe tbody tr th:only-of-type {\n",
       "        vertical-align: middle;\n",
       "    }\n",
       "\n",
       "    .dataframe tbody tr th {\n",
       "        vertical-align: top;\n",
       "    }\n",
       "\n",
       "    .dataframe thead th {\n",
       "        text-align: right;\n",
       "    }\n",
       "</style>\n",
       "<table border=\"1\" class=\"dataframe\">\n",
       "  <thead>\n",
       "    <tr style=\"text-align: right;\">\n",
       "      <th></th>\n",
       "      <th>cat_cols__cut</th>\n",
       "      <th>cat_cols__color</th>\n",
       "      <th>cat_cols__clarity</th>\n",
       "      <th>num_cols__carat</th>\n",
       "      <th>num_cols__depth</th>\n",
       "      <th>num_cols__table</th>\n",
       "      <th>num_cols__x</th>\n",
       "      <th>num_cols__y</th>\n",
       "      <th>num_cols__z</th>\n",
       "    </tr>\n",
       "  </thead>\n",
       "  <tbody>\n",
       "    <tr>\n",
       "      <th>0</th>\n",
       "      <td>2.0</td>\n",
       "      <td>3.0</td>\n",
       "      <td>3.0</td>\n",
       "      <td>-0.968373</td>\n",
       "      <td>0.357251</td>\n",
       "      <td>0.398770</td>\n",
       "      <td>-1.168138</td>\n",
       "      <td>-1.153025</td>\n",
       "      <td>-1.119799</td>\n",
       "    </tr>\n",
       "    <tr>\n",
       "      <th>1</th>\n",
       "      <td>3.0</td>\n",
       "      <td>2.0</td>\n",
       "      <td>2.0</td>\n",
       "      <td>-0.193282</td>\n",
       "      <td>0.081350</td>\n",
       "      <td>0.918662</td>\n",
       "      <td>-0.010317</td>\n",
       "      <td>-0.068967</td>\n",
       "      <td>-0.031025</td>\n",
       "    </tr>\n",
       "    <tr>\n",
       "      <th>2</th>\n",
       "      <td>2.0</td>\n",
       "      <td>1.0</td>\n",
       "      <td>2.0</td>\n",
       "      <td>0.258854</td>\n",
       "      <td>0.909054</td>\n",
       "      <td>0.918662</td>\n",
       "      <td>0.357673</td>\n",
       "      <td>0.310454</td>\n",
       "      <td>0.398755</td>\n",
       "    </tr>\n",
       "    <tr>\n",
       "      <th>3</th>\n",
       "      <td>4.0</td>\n",
       "      <td>2.0</td>\n",
       "      <td>2.0</td>\n",
       "      <td>-0.171752</td>\n",
       "      <td>0.265284</td>\n",
       "      <td>-0.641015</td>\n",
       "      <td>-0.010317</td>\n",
       "      <td>0.030405</td>\n",
       "      <td>0.040605</td>\n",
       "    </tr>\n",
       "    <tr>\n",
       "      <th>4</th>\n",
       "      <td>4.0</td>\n",
       "      <td>4.0</td>\n",
       "      <td>6.0</td>\n",
       "      <td>-0.107161</td>\n",
       "      <td>-1.206189</td>\n",
       "      <td>-0.641015</td>\n",
       "      <td>0.124313</td>\n",
       "      <td>0.138811</td>\n",
       "      <td>0.011953</td>\n",
       "    </tr>\n",
       "  </tbody>\n",
       "</table>\n",
       "</div>"
      ],
      "text/plain": [
       "   cat_cols__cut  cat_cols__color  cat_cols__clarity  num_cols__carat  \\\n",
       "0            2.0              3.0                3.0        -0.968373   \n",
       "1            3.0              2.0                2.0        -0.193282   \n",
       "2            2.0              1.0                2.0         0.258854   \n",
       "3            4.0              2.0                2.0        -0.171752   \n",
       "4            4.0              4.0                6.0        -0.107161   \n",
       "\n",
       "   num_cols__depth  num_cols__table  num_cols__x  num_cols__y  num_cols__z  \n",
       "0         0.357251         0.398770    -1.168138    -1.153025    -1.119799  \n",
       "1         0.081350         0.918662    -0.010317    -0.068967    -0.031025  \n",
       "2         0.909054         0.918662     0.357673     0.310454     0.398755  \n",
       "3         0.265284        -0.641015    -0.010317     0.030405     0.040605  \n",
       "4        -1.206189        -0.641015     0.124313     0.138811     0.011953  "
      ]
     },
     "execution_count": 170,
     "metadata": {},
     "output_type": "execute_result"
    }
   ],
   "source": [
    "X_test.head()"
   ]
  },
  {
   "cell_type": "code",
   "execution_count": 172,
   "metadata": {},
   "outputs": [
    {
     "data": {
      "text/plain": [
       "191934     596\n",
       "116555    2013\n",
       "148689    3544\n",
       "140929    2671\n",
       "99400     3205\n",
       "Name: price, dtype: int64"
      ]
     },
     "execution_count": 172,
     "metadata": {},
     "output_type": "execute_result"
    }
   ],
   "source": [
    "y_test.head()"
   ]
  },
  {
   "cell_type": "code",
   "execution_count": 174,
   "metadata": {},
   "outputs": [
    {
     "data": {
      "text/plain": [
       "102043    6098\n",
       "94490      457\n",
       "122451    1563\n",
       "151504    2882\n",
       "30813      972\n",
       "Name: price, dtype: int64"
      ]
     },
     "execution_count": 174,
     "metadata": {},
     "output_type": "execute_result"
    }
   ],
   "source": [
    "y_train.head()"
   ]
  },
  {
   "cell_type": "code",
   "execution_count": 160,
   "metadata": {},
   "outputs": [],
   "source": [
    "from sklearn.linear_model import LinearRegression, Lasso, Ridge, ElasticNet\n",
    "from sklearn.ensemble import RandomForestRegressor\n",
    "from xgboost import XGBRegressor\n",
    "from sklearn.metrics import r2_score, mean_absolute_error, mean_squared_error"
   ]
  },
  {
   "cell_type": "code",
   "execution_count": 179,
   "metadata": {},
   "outputs": [],
   "source": [
    "models = {\n",
    "    \"LR\" : LinearRegression(),\n",
    "    \"Lasso\": Lasso(),\n",
    "    \"Ridge\": Ridge(),\n",
    "    \"RF\" : RandomForestRegressor(),\n",
    "    \"XGB\" : XGBRegressor()   \n",
    "}"
   ]
  },
  {
   "cell_type": "code",
   "execution_count": 181,
   "metadata": {},
   "outputs": [
    {
     "name": "stdout",
     "output_type": "stream",
     "text": [
      "Model training performance LinearRegression()\n",
      "r2_score:  0.9308835762815288\n",
      "RMSE:  1025.702309936485\n",
      "MAE:  679.8032956521985\n",
      "------------------------------------------------------------------------------------------------------------------------------------------------------------------------------------------------------------------\n",
      "Model training performance Lasso()\n",
      "r2_score:  0.9309098296305525\n",
      "RMSE:  1024.4204976671842\n",
      "MAE:  680.5597034466642\n",
      "------------------------------------------------------------------------------------------------------------------------------------------------------------------------------------------------------------------\n",
      "Model training performance Ridge()\n",
      "r2_score:  0.9308813677651686\n",
      "RMSE:  1025.698627649253\n",
      "MAE:  679.8262965408009\n",
      "------------------------------------------------------------------------------------------------------------------------------------------------------------------------------------------------------------------\n",
      "Model training performance RandomForestRegressor()\n",
      "r2_score:  0.9765830018782375\n",
      "RMSE:  611.9668213846177\n",
      "MAE:  313.2955949566985\n",
      "------------------------------------------------------------------------------------------------------------------------------------------------------------------------------------------------------------------\n",
      "Model training performance XGBRegressor(base_score=None, booster=None, callbacks=None,\n",
      "             colsample_bylevel=None, colsample_bynode=None,\n",
      "             colsample_bytree=None, device=None, early_stopping_rounds=None,\n",
      "             enable_categorical=False, eval_metric=None, feature_types=None,\n",
      "             gamma=None, grow_policy=None, importance_type=None,\n",
      "             interaction_constraints=None, learning_rate=None, max_bin=None,\n",
      "             max_cat_threshold=None, max_cat_to_onehot=None,\n",
      "             max_delta_step=None, max_depth=None, max_leaves=None,\n",
      "             min_child_weight=None, missing=nan, monotone_constraints=None,\n",
      "             multi_strategy=None, n_estimators=None, n_jobs=None,\n",
      "             num_parallel_tree=None, random_state=None, ...)\n",
      "r2_score:  0.9778464406640807\n",
      "RMSE:  591.9565464942846\n",
      "MAE:  304.0794399769645\n",
      "------------------------------------------------------------------------------------------------------------------------------------------------------------------------------------------------------------------\n"
     ]
    }
   ],
   "source": [
    "for i in range(len(list(models))):\n",
    "    model = list(models.values())[i]\n",
    "    \n",
    "    model.fit(X_train, y_train)\n",
    "    preds = model.predict(X_test)\n",
    "    \n",
    "    print(\"Model training performance\", model)\n",
    "    print(\"r2_score: \", r2_score(preds, y_test))\n",
    "    print(\"RMSE: \", mean_squared_error(preds, y_test)**0.5)\n",
    "    print(\"MAE: \", mean_absolute_error(preds, y_test))\n",
    "    print(\"---\" * 70)"
   ]
  },
  {
   "cell_type": "code",
   "execution_count": null,
   "metadata": {},
   "outputs": [],
   "source": []
  }
 ],
 "metadata": {
  "kernelspec": {
   "display_name": "Python 3",
   "language": "python",
   "name": "python3"
  },
  "language_info": {
   "codemirror_mode": {
    "name": "ipython",
    "version": 3
   },
   "file_extension": ".py",
   "mimetype": "text/x-python",
   "name": "python",
   "nbconvert_exporter": "python",
   "pygments_lexer": "ipython3",
   "version": "3.8.18"
  },
  "orig_nbformat": 4,
  "vscode": {
   "interpreter": {
    "hash": "bb73d111569af555b45be4066e80c873ab24a5439156e524168689458aeef6fe"
   }
  }
 },
 "nbformat": 4,
 "nbformat_minor": 2
}
